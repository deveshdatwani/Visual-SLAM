{
 "cells": [
  {
   "cell_type": "code",
   "execution_count": 1,
   "metadata": {},
   "outputs": [],
   "source": [
    "import sys\n",
    "import cv2\n",
    "import numpy as np\n",
    "from math import * \n",
    "import os\n",
    "from matplotlib import pyplot as plt"
   ]
  },
  {
   "cell_type": "code",
   "execution_count": 2,
   "metadata": {},
   "outputs": [],
   "source": [
    "%run Match.ipynb\n",
    "%run RANSAC.ipynb"
   ]
  },
  {
   "cell_type": "code",
   "execution_count": 3,
   "metadata": {},
   "outputs": [],
   "source": [
    "class structureFromMotion(Match, RANSAC):\n",
    "    \n",
    "    def __init__(self, numberOfImages=None):\n",
    "        self.numberOfImages = numberOfImages\n",
    "        self.baseAddress = os.getcwd() + \"/P3Data/\"\n",
    "    \n",
    "    def showImage(self, image):\n",
    "        plt.imshow(image)\n",
    "        return None\n",
    "    \n",
    "    def matchTwoImages(self, image1, image2):\n",
    "        matches = self.featureMatching(image1, image1)\n",
    "        return matches\n",
    "    \n",
    "    def getFundamentalMatrix(self):\n",
    "        matches = structure.featureMatching(descriptorsImage1, descriptorsImage2)\n",
    "        F = structure.ransacAlgorithm(matches, keyPoints1, keyPoints2)\n",
    "        \n",
    "    def extractKeyPoints():\n",
    "        return None\n",
    "    \n",
    "    def drawlines(self, img1, img2, lines, pts1, pts2):\n",
    "        r,c = img1.shape\n",
    "        img1 = cv2.cvtColor(img1,cv2.COLOR_GRAY2BGR)\n",
    "        img2 = cv2.cvtColor(img2,cv2.COLOR_GRAY2BGR)\n",
    "        \n",
    "        for r, pt1, pt2 in zip(lines, pts1, pts2):\n",
    "            color = tuple(np.random.randint(0, 255, 3).tolist())\n",
    "            x0, y0 = map(int, [0, -r[2]/r[1] ])\n",
    "            x1, y1 = map(int, [c, -(r[2]+r[0]*c)/r[1] ])\n",
    "            img1 = cv2.line(img1, (x0,y0), (x1,y1), color, 1)\n",
    "            img1 = cv2.circle(img1, tuple(pt1), 5, color, -1)\n",
    "            img2 = cv2.circle(img2, tuple(pt2), 5, color, -1)\n",
    "        \n",
    "        return img1,img2"
   ]
  },
  {
   "cell_type": "code",
   "execution_count": 4,
   "metadata": {},
   "outputs": [],
   "source": [
    "structure = structureFromMotion()"
   ]
  },
  {
   "cell_type": "code",
   "execution_count": 5,
   "metadata": {},
   "outputs": [],
   "source": [
    "imageFile = \"2.png\"\n",
    "image2File = \"2.png\"\n",
    "imageAddress = structure.baseAddress + imageFile\n",
    "image2Address = structure.baseAddress + image2File\n",
    "image1 = cv2.imread(imageAddress, 0)\n",
    "image2 = cv2.imread(image2Address, 0)"
   ]
  },
  {
   "cell_type": "code",
   "execution_count": 6,
   "metadata": {},
   "outputs": [],
   "source": [
    "keyPoints1, descriptorsImage1 = structure.featureExtraction(image1)\n",
    "keyPoints2, descriptorsImage2 = structure.featureExtraction(image2)\n",
    "keyPoints1 = np.array([p.pt for p in keyPoints1])\n",
    "keyPoints2 = np.array([p.pt for p in keyPoints2])"
   ]
  },
  {
   "cell_type": "code",
   "execution_count": 7,
   "metadata": {
    "scrolled": true
   },
   "outputs": [],
   "source": [
    "matches = structure.featureMatching(descriptorsImage1, descriptorsImage2)"
   ]
  },
  {
   "cell_type": "code",
   "execution_count": 8,
   "metadata": {},
   "outputs": [],
   "source": [
    "P1 = np.array([pt.queryIdx for pt in matches])\n",
    "P2 = np.array([pt.trainIdx for pt in matches])\n",
    "\n",
    "keyPoints1Matched = keyPoints1[P1]\n",
    "keyPoints2Matched = keyPoints2[P2]"
   ]
  },
  {
   "cell_type": "code",
   "execution_count": 9,
   "metadata": {},
   "outputs": [],
   "source": [
    "F, mask = structure.fundamentalMatCV(keyPoints1Matched, keyPoints2Matched)"
   ]
  },
  {
   "cell_type": "code",
   "execution_count": 10,
   "metadata": {},
   "outputs": [],
   "source": [
    "pts1 = keyPoints1Matched[mask.ravel() == 1]\n",
    "pts2 = keyPoints2Matched[mask.ravel() == 1]"
   ]
  },
  {
   "cell_type": "code",
   "execution_count": 11,
   "metadata": {},
   "outputs": [],
   "source": [
    "pts1 = np.int32(pts1)\n",
    "pts2 = np.int32(pts2)"
   ]
  },
  {
   "cell_type": "code",
   "execution_count": 12,
   "metadata": {},
   "outputs": [],
   "source": [
    "Point1 = pts1.tolist()\n",
    "Point2 = pts2.tolist()"
   ]
  },
  {
   "cell_type": "code",
   "execution_count": 13,
   "metadata": {},
   "outputs": [],
   "source": [
    "temp = pts1 \n",
    "pts1 = pts2\n",
    "pts2 = temp"
   ]
  },
  {
   "cell_type": "code",
   "execution_count": 15,
   "metadata": {},
   "outputs": [
    {
     "ename": "NameError",
     "evalue": "name 'drawlines' is not defined",
     "output_type": "error",
     "traceback": [
      "\u001b[0;31m---------------------------------------------------------------------------\u001b[0m",
      "\u001b[0;31mNameError\u001b[0m                                 Traceback (most recent call last)",
      "\u001b[0;32m<ipython-input-15-6debf5f8c8e4>\u001b[0m in \u001b[0;36m<module>\u001b[0;34m\u001b[0m\n\u001b[1;32m      1\u001b[0m \u001b[0mlines1\u001b[0m \u001b[0;34m=\u001b[0m \u001b[0mcv2\u001b[0m\u001b[0;34m.\u001b[0m\u001b[0mcomputeCorrespondEpilines\u001b[0m\u001b[0;34m(\u001b[0m\u001b[0mpts2\u001b[0m\u001b[0;34m.\u001b[0m\u001b[0mreshape\u001b[0m\u001b[0;34m(\u001b[0m\u001b[0;34m-\u001b[0m\u001b[0;36m1\u001b[0m\u001b[0;34m,\u001b[0m\u001b[0;36m1\u001b[0m\u001b[0;34m,\u001b[0m\u001b[0;36m2\u001b[0m\u001b[0;34m)\u001b[0m\u001b[0;34m,\u001b[0m \u001b[0;36m2\u001b[0m\u001b[0;34m,\u001b[0m \u001b[0mF\u001b[0m\u001b[0;34m)\u001b[0m\u001b[0;34m\u001b[0m\u001b[0;34m\u001b[0m\u001b[0m\n\u001b[1;32m      2\u001b[0m \u001b[0mlines1\u001b[0m \u001b[0;34m=\u001b[0m \u001b[0mlines1\u001b[0m\u001b[0;34m.\u001b[0m\u001b[0mreshape\u001b[0m\u001b[0;34m(\u001b[0m\u001b[0;34m-\u001b[0m\u001b[0;36m1\u001b[0m\u001b[0;34m,\u001b[0m\u001b[0;36m3\u001b[0m\u001b[0;34m)\u001b[0m\u001b[0;34m\u001b[0m\u001b[0;34m\u001b[0m\u001b[0m\n\u001b[0;32m----> 3\u001b[0;31m \u001b[0mimg5\u001b[0m\u001b[0;34m,\u001b[0m\u001b[0mimg6\u001b[0m \u001b[0;34m=\u001b[0m \u001b[0mdrawlines\u001b[0m\u001b[0;34m(\u001b[0m\u001b[0mimage1\u001b[0m\u001b[0;34m,\u001b[0m \u001b[0mimage2\u001b[0m\u001b[0;34m,\u001b[0m \u001b[0mlines1\u001b[0m\u001b[0;34m,\u001b[0m \u001b[0mpts1\u001b[0m\u001b[0;34m,\u001b[0m \u001b[0mpts2\u001b[0m\u001b[0;34m)\u001b[0m\u001b[0;34m\u001b[0m\u001b[0;34m\u001b[0m\u001b[0m\n\u001b[0m\u001b[1;32m      4\u001b[0m \u001b[0;34m\u001b[0m\u001b[0m\n\u001b[1;32m      5\u001b[0m \u001b[0mlines2\u001b[0m \u001b[0;34m=\u001b[0m \u001b[0mcv2\u001b[0m\u001b[0;34m.\u001b[0m\u001b[0mcomputeCorrespondEpilines\u001b[0m\u001b[0;34m(\u001b[0m\u001b[0mpts1\u001b[0m\u001b[0;34m.\u001b[0m\u001b[0mreshape\u001b[0m\u001b[0;34m(\u001b[0m\u001b[0;34m-\u001b[0m\u001b[0;36m1\u001b[0m\u001b[0;34m,\u001b[0m\u001b[0;36m1\u001b[0m\u001b[0;34m,\u001b[0m\u001b[0;36m2\u001b[0m\u001b[0;34m)\u001b[0m\u001b[0;34m,\u001b[0m \u001b[0;36m1\u001b[0m\u001b[0;34m,\u001b[0m \u001b[0mF\u001b[0m\u001b[0;34m)\u001b[0m\u001b[0;34m\u001b[0m\u001b[0;34m\u001b[0m\u001b[0m\n",
      "\u001b[0;31mNameError\u001b[0m: name 'drawlines' is not defined"
     ]
    }
   ],
   "source": [
    "lines1 = cv2.computeCorrespondEpilines(pts2.reshape(-1,1,2), 2, F)\n",
    "lines1 = lines1.reshape(-1,3)\n",
    "img5,img6 = structure.drawlines(image1, image2, lines1, pts1, pts2)\n",
    "\n",
    "lines2 = cv2.computeCorrespondEpilines(pts1.reshape(-1,1,2), 1, F)\n",
    "lines2 = lines2.reshape(-1,3)\n",
    "img3,img4 = structure.drawlines(image2, image1, lines2, pts2, pts1)\n",
    "\n",
    "plt.figure(figsize=(200,200))\n",
    "plt.subplot(121),plt.imshow(img5)\n",
    "plt.subplot(122),plt.imshow(img3)\n",
    "plt.show()"
   ]
  },
  {
   "cell_type": "code",
   "execution_count": null,
   "metadata": {},
   "outputs": [],
   "source": [
    "plt.subplot(121),plt.imshow(img6)\n",
    "plt.subplot(122),plt.imshow(img3)\n",
    "plt.show()"
   ]
  },
  {
   "cell_type": "code",
   "execution_count": null,
   "metadata": {},
   "outputs": [],
   "source": [
    "# import numpy as np\n",
    "# import cv2 as cv\n",
    "# from matplotlib import pyplot as plt\n",
    "# img1 = cv.imread('/home/deveshdatwani/Slam/P3Data/1.png', cv.IMREAD_GRAYSCALE)  #queryimage # left image\n",
    "# img2 = cv.imread('/home/deveshdatwani/Slam/P3Data/2.png', cv.IMREAD_GRAYSCALE) #trainimage # right image\n",
    "# sift = cv.SIFT_create()\n",
    "# # find the keypoints and descriptors with SIFT\n",
    "# kp1, des1 = sift.detectAndCompute(img1,None)\n",
    "# kp2, des2 = sift.detectAndCompute(img2,None)\n",
    "# # FLANN parameters\n",
    "# FLANN_INDEX_KDTREE = 1\n",
    "# index_params = dict(algorithm = FLANN_INDEX_KDTREE, trees = 5)\n",
    "# search_params = dict(checks=50)\n",
    "# flann = cv.FlannBasedMatcher(index_params,search_params)\n",
    "# matches = flann.knnMatch(des1,des2,k=2)\n",
    "# pts1 = []\n",
    "# pts2 = []\n",
    "\n",
    "# # ratio test as per Lowe's paper\n",
    "# for i,(m,n) in enumerate(matches):\n",
    "#     if m.distance < 0.8*n.distance:\n",
    "#         pts2.append(kp2[m.trainIdx].pt)\n",
    "#         pts1.append(kp1[m.queryIdx].pt)\n",
    "        \n",
    "# pts1 = np.int32(pts1)\n",
    "# pts2 = np.int32(pts2)\n",
    "# F, mask = cv.findFundamentalMat(pts1,pts2,cv.FM_LMEDS)\n",
    "# # We select only inlier points\n",
    "# pts1 = pts1[mask.ravel()==1]\n",
    "# pts2 = pts2[mask.ravel()==1]\n",
    "\n",
    "# def drawlines(img1,img2,lines,pts1,pts2):\n",
    "#     ''' img1 - image on which we draw the epilines for the points in img2\n",
    "#         lines - corresponding epilines '''\n",
    "#     r,c = img1.shape\n",
    "#     img1 = cv.cvtColor(img1,cv.COLOR_GRAY2BGR)\n",
    "#     img2 = cv.cvtColor(img2,cv.COLOR_GRAY2BGR)\n",
    "#     for r,pt1,pt2 in zip(lines,pts1,pts2):\n",
    "#         color = tuple(np.random.randint(0,255,3).tolist())\n",
    "#         x0,y0 = map(int, [0, -r[2]/r[1] ])\n",
    "#         x1,y1 = map(int, [c, -(r[2]+r[0]*c)/r[1] ])\n",
    "#         img1 = cv.line(img1, (x0,y0), (x1,y1), color,1)\n",
    "#         img1 = cv.circle(img1,tuple(pt1),5,color,-1)\n",
    "#         img2 = cv.circle(img2,tuple(pt2),5,color,-1)\n",
    "#     return img1,img2\n",
    "\n",
    "# # Find epilines corresponding to points in right image (second image) and\n",
    "# # drawing its lines on left image\n",
    "# lines1 = cv.computeCorrespondEpilines(pts2.reshape(-1,1,2), 2,F)\n",
    "# lines1 = lines1.reshape(-1,3)\n",
    "# img5,img6 = drawlines(img1,img2,lines1,pts1,pts2)\n",
    "# # Find epilines corresponding to points in left image (first image) and\n",
    "# # drawing its lines on right image\n",
    "# lines2 = cv.computeCorrespondEpilines(pts1.reshape(-1,1,2), 1,F)\n",
    "# lines2 = lines2.reshape(-1,3)\n",
    "# img3,img4 = drawlines(img2,img1,lines2,pts2,pts1)\n",
    "# plt.figure(figsize=(200,200))\n",
    "# plt.subplot(121),plt.imshow(img5)\n",
    "# plt.subplot(122),plt.imshow(img3)\n",
    "# plt.show()"
   ]
  }
 ],
 "metadata": {
  "kernelspec": {
   "display_name": "Python 3",
   "language": "python",
   "name": "python3"
  },
  "language_info": {
   "codemirror_mode": {
    "name": "ipython",
    "version": 3
   },
   "file_extension": ".py",
   "mimetype": "text/x-python",
   "name": "python",
   "nbconvert_exporter": "python",
   "pygments_lexer": "ipython3",
   "version": "3.8.10"
  }
 },
 "nbformat": 4,
 "nbformat_minor": 4
}
