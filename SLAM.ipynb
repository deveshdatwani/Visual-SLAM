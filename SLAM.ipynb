{
 "cells": [
  {
   "cell_type": "code",
   "execution_count": 1,
   "metadata": {},
   "outputs": [],
   "source": [
    "import sys\n",
    "import cv2\n",
    "import numpy as np\n",
    "from math import * \n",
    "import os\n",
    "from matplotlib import pyplot as plt"
   ]
  },
  {
   "cell_type": "code",
   "execution_count": 2,
   "metadata": {},
   "outputs": [],
   "source": [
    "%run Match.ipynb\n",
    "%run RANSAC.ipynb"
   ]
  },
  {
   "cell_type": "code",
   "execution_count": 4,
   "metadata": {},
   "outputs": [],
   "source": [
    "class structureFromMotion(Match, RANSAC):\n",
    "    \n",
    "    def __init__(self, numberOfImages=None):\n",
    "        self.numberOfImages = numberOfImages\n",
    "        self.baseAddress = os.getcwd() + \"/P3Data/\"\n",
    "    \n",
    "    def showImage(self, image):\n",
    "        plt.imshow(image)\n",
    "        return None\n",
    "    \n",
    "    def matchTwoImages(self, image1, image2):\n",
    "        matches = self.featureMatching(image1, image1)\n",
    "        return matches\n",
    "    \n",
    "    def getFundamentalMatrix(self):\n",
    "        matches = structure.featureMatching(descriptorsImage1, descriptorsImage2)\n",
    "        F = structure.ransacAlgorithm(matches, keyPoints1, keyPoints2)\n",
    "        \n",
    "    def extractKeyPoints():\n",
    "        return None"
   ]
  },
  {
   "cell_type": "code",
   "execution_count": 5,
   "metadata": {},
   "outputs": [],
   "source": [
    "structure = structureFromMotion()"
   ]
  },
  {
   "cell_type": "code",
   "execution_count": 6,
   "metadata": {},
   "outputs": [],
   "source": [
    "imageFile = \"1.png\"\n",
    "image2File = \"2.png\"\n",
    "imageAddress = structure.baseAddress + imageFile\n",
    "image2Address = structure.baseAddress + image2File\n",
    "image1 = cv2.imread(imageAddress, 0)\n",
    "image1 = cv2.cvtColor(image1, cv2.COLOR_BGR2RGB)\n",
    "image2 = cv2.imread(image2Address, 0)\n",
    "image2 = cv2.cvtColor(image2, cv2.COLOR_BGR2RGB)"
   ]
  },
  {
   "cell_type": "code",
   "execution_count": 7,
   "metadata": {},
   "outputs": [],
   "source": [
    "keyPoints1, descriptorsImage1 = structure.featureExtraction(image1)\n",
    "keyPoints2, descriptorsImage2 = structure.featureExtraction(image2)\n",
    "keyPoints1 = np.array([p.pt for p in keyPoints1])\n",
    "keyPoints2 = np.array([p.pt for p in keyPoints2])"
   ]
  },
  {
   "cell_type": "code",
   "execution_count": 8,
   "metadata": {
    "scrolled": true
   },
   "outputs": [],
   "source": [
    "matches = structure.featureMatching(descriptorsImage1, descriptorsImage2)"
   ]
  },
  {
   "cell_type": "code",
   "execution_count": 30,
   "metadata": {
    "scrolled": true
   },
   "outputs": [],
   "source": [
    "F = structure.fundamentalMatCV(keyPoints1Matched, keyPoints2Matched)"
   ]
  },
  {
   "cell_type": "code",
   "execution_count": 28,
   "metadata": {},
   "outputs": [],
   "source": [
    "P1 = np.array([pt.queryIdx for pt in matches])\n",
    "P2 = np.array([pt.trainIdx for pt in matches])\n",
    "\n",
    "keyPoints1Matched = keyPoints1[P1]\n",
    "keyPoints2Matched = keyPoints2[P2]"
   ]
  },
  {
   "cell_type": "code",
   "execution_count": 34,
   "metadata": {},
   "outputs": [
    {
     "data": {
      "text/plain": [
       "array([ 98.53670502, 458.81387329])"
      ]
     },
     "execution_count": 34,
     "metadata": {},
     "output_type": "execute_result"
    }
   ],
   "source": [
    "keyPoints1Matched[100]"
   ]
  },
  {
   "cell_type": "code",
   "execution_count": null,
   "metadata": {},
   "outputs": [],
   "source": []
  }
 ],
 "metadata": {
  "kernelspec": {
   "display_name": "Python 3",
   "language": "python",
   "name": "python3"
  },
  "language_info": {
   "codemirror_mode": {
    "name": "ipython",
    "version": 3
   },
   "file_extension": ".py",
   "mimetype": "text/x-python",
   "name": "python",
   "nbconvert_exporter": "python",
   "pygments_lexer": "ipython3",
   "version": "3.8.10"
  }
 },
 "nbformat": 4,
 "nbformat_minor": 4
}
