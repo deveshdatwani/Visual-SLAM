{
 "cells": [
  {
   "cell_type": "code",
   "execution_count": 181,
   "metadata": {},
   "outputs": [],
   "source": [
    "import sys\n",
    "import cv2\n",
    "import numpy as np\n",
    "from math import * \n",
    "import os\n",
    "from matplotlib import pyplot as plt"
   ]
  },
  {
   "cell_type": "code",
   "execution_count": 184,
   "metadata": {},
   "outputs": [],
   "source": [
    "%run Match.ipynb"
   ]
  },
  {
   "cell_type": "code",
   "execution_count": 186,
   "metadata": {},
   "outputs": [],
   "source": [
    "class structureFromMotion(Match):\n",
    "    \n",
    "    def __init__(self, numberOfImages=None):\n",
    "        self.numberOfImages = numberOfImages\n",
    "        self.baseAddress = os.getcwd() + \"/P3Data/\"\n",
    "    \n",
    "    def showImage(self, image):\n",
    "        plt.imshow(image)\n",
    "        return None\n",
    "    \n",
    "    def matchTwoImages(self, image1, image2):\n",
    "        matches = self.featureMatching(image1, image1)\n",
    "        return matches"
   ]
  },
  {
   "cell_type": "code",
   "execution_count": 187,
   "metadata": {},
   "outputs": [],
   "source": [
    "structure = structureFromMotion()"
   ]
  },
  {
   "cell_type": "code",
   "execution_count": 151,
   "metadata": {},
   "outputs": [],
   "source": [
    "imageFile = \"1.png\"\n",
    "imageAddress = structure.baseAddress + imageFile\n",
    "image1 = cv2.imread(imageAddress)\n",
    "image1 = cv2.cvtColor(image, cv2.COLOR_BGR2RGB)\n",
    "image2 = cv2.imread(imageAdress)"
   ]
  },
  {
   "cell_type": "code",
   "execution_count": 190,
   "metadata": {},
   "outputs": [],
   "source": [
    "keyPoints, descriptors = structure.featureExtraction(image)"
   ]
  },
  {
   "cell_type": "code",
   "execution_count": null,
   "metadata": {},
   "outputs": [],
   "source": []
  }
 ],
 "metadata": {
  "kernelspec": {
   "display_name": "Python 3",
   "language": "python",
   "name": "python3"
  },
  "language_info": {
   "codemirror_mode": {
    "name": "ipython",
    "version": 3
   },
   "file_extension": ".py",
   "mimetype": "text/x-python",
   "name": "python",
   "nbconvert_exporter": "python",
   "pygments_lexer": "ipython3",
   "version": "3.8.10"
  }
 },
 "nbformat": 4,
 "nbformat_minor": 4
}
