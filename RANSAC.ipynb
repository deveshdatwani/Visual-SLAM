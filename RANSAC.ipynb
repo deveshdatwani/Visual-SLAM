{
 "cells": [
  {
   "cell_type": "code",
   "execution_count": 1,
   "metadata": {},
   "outputs": [],
   "source": [
    "import numpy as np"
   ]
  },
  {
   "cell_type": "code",
   "execution_count": 2,
   "metadata": {},
   "outputs": [
    {
     "data": {
      "text/plain": [
       "array([5, 9, 7, 4, 0, 9, 4, 8, 2, 2])"
      ]
     },
     "execution_count": 2,
     "metadata": {},
     "output_type": "execute_result"
    }
   ],
   "source": [
    "np.random.randint(0,10, size=10)"
   ]
  },
  {
   "cell_type": "code",
   "execution_count": 13,
   "metadata": {},
   "outputs": [],
   "source": [
    "class RANSAC():\n",
    "    \n",
    "    def __init__(self):\n",
    "        return None\n",
    "        self.inlierKeypoints1 = np.array()\n",
    "        self.inlierKeypoints2 = np.array()\n",
    "        \n",
    "    def chooseKeyPoints(self, matches):\n",
    "        randomPointsArray = np.random.randint(0, len(matches), size=8)\n",
    "        \n",
    "        return randomPointsArray\n",
    "    \n",
    "    def findFundamentalMatrix(self, randomKeyPointsIdx, keyPoints1, keyPoints2):\n",
    "        eightKeyPointsImage1 = keyPoints1[randomKeyPoints]\n",
    "        eightKeyPointsImage2 = keyPoints2[randomKeyPoints]\n",
    "        fundamentalMatrix = cv2.findFundamentalMat(eightKeyPointsImage1, eightKeyPointsImage2, cv2.FM_LMEDS)\n",
    "        \n",
    "        return fundamentalMatrix \n",
    "    \n",
    "    def ransacAlgorithm(self, matches, kepPoints1, keyPoints2, threshold=0.005, N=50):\n",
    "        randomKeyPointsIdx = self.chooseKeyPoints(matches)\n",
    "        \n",
    "        for i in range(N):\n",
    "            fundamentalMatrix = self.findFundamentalMatrix(randomKeyPointsIdx, keyPoints1, keyPoints2)\n",
    "            \n",
    "            for j in range(len(matches)):\n",
    "                queryIdx= matches[j].queryIdx\n",
    "                trainIdx= matches[j].trainIdx\n",
    "                X1 = keyPoints1[queryIdx]\n",
    "                X2 = keyPoints1[trainIdx]\n",
    "                epipolarContraint = np.dot(np.dot(X1.T, fundamentalMatrix), X2)\n",
    "                \n",
    "                if epipolarContraint < threshold:\n",
    "                    inlier += 1\n",
    "                    self.inlierKeypoints1.append(X1)\n",
    "                    self.inlierKeypoints2.append(X2)\n",
    "        \n",
    "        return fundamentalMatrix\n",
    "    \n",
    "    def fundamentalMatCV(self, keyPoints1, keyPoints2):\n",
    "        fundamentalMatrix = cv2.findFundamentalMat(keyPoints1, keyPoints2)\n",
    "        \n",
    "        return fundamentalMatrix"
   ]
  },
  {
   "cell_type": "code",
   "execution_count": null,
   "metadata": {},
   "outputs": [],
   "source": []
  }
 ],
 "metadata": {
  "kernelspec": {
   "display_name": "Python 3",
   "language": "python",
   "name": "python3"
  },
  "language_info": {
   "codemirror_mode": {
    "name": "ipython",
    "version": 3
   },
   "file_extension": ".py",
   "mimetype": "text/x-python",
   "name": "python",
   "nbconvert_exporter": "python",
   "pygments_lexer": "ipython3",
   "version": "3.8.10"
  }
 },
 "nbformat": 4,
 "nbformat_minor": 4
}
